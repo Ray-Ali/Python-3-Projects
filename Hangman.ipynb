{
 "cells": [
  {
   "cell_type": "code",
   "execution_count": null,
   "metadata": {},
   "outputs": [
    {
     "name": "stdout",
     "output_type": "stream",
     "text": [
      "Welcome to Ray's Hangman Game:\n",
      "This game tests your ability to guess a random word\n",
      "I hope you're ready.....\n",
      "😎😎😎😎😎😎😎😎😎😎😎😎😎😎😎😎😎😎😎😎😎😎😎😎😎😎😎😎😎😎\n",
      "-----\n"
     ]
    }
   ],
   "source": [
    "def welcome():\n",
    "    print(\"Welcome to Ray's Hangman Game:\")\n",
    "    print(\"This game tests your ability to guess a random word\")\n",
    "    print(\"I hope you're ready.....\")\n",
    "    print(\"😎😎😎😎😎😎😎😎😎😎😎😎😎😎😎😎😎😎😎😎😎😎😎😎😎😎😎😎😎😎\")\n",
    "\n",
    "\n",
    "def hangman(fname):\n",
    "    import random\n",
    "    wordlist=[]\n",
    "    word=random.choice(open(\"commonWords.txt\").readlines()).strip()\n",
    "    wordy=len(word)\n",
    "    words=[\"-\"] * wordy\n",
    "    strikes=10\n",
    "    while strikes > 0:\n",
    "        print(\"\".join(words))\n",
    "        letter=input(\"Guess a letter: \")\n",
    "\n",
    "        if len(letter) > 1:\n",
    "            print(\"Please only one at a time\")\n",
    "        elif (letter not in word):\n",
    "            strikes-=1\n",
    "            if strikes == 0:\n",
    "                print(\"Sorry you lost, the word was actually:\",word)\n",
    "                break\n",
    "            print(\"Try again, you have %d Strikes!\" %strikes)\n",
    "\n",
    "        else:\n",
    "            for x in range(wordy):\n",
    "                if letter ==word[x]:\n",
    "                    words[x] = letter\n",
    "\n",
    "        if \"\".join(words) == word:\n",
    "            print(word + \"-🥇🥇🥇🥇🥇🥇🥇Winner Winner 🥇🥇🥇🥇🥇🥇🥇\")\n",
    "            break\n",
    "welcome()\n",
    "hangman('commonWords.txt')\n"
   ]
  },
  {
   "cell_type": "code",
   "execution_count": null,
   "metadata": {},
   "outputs": [],
   "source": []
  },
  {
   "cell_type": "code",
   "execution_count": null,
   "metadata": {},
   "outputs": [],
   "source": []
  },
  {
   "cell_type": "code",
   "execution_count": null,
   "metadata": {},
   "outputs": [],
   "source": []
  },
  {
   "cell_type": "code",
   "execution_count": null,
   "metadata": {},
   "outputs": [],
   "source": []
  },
  {
   "cell_type": "code",
   "execution_count": null,
   "metadata": {},
   "outputs": [],
   "source": []
  },
  {
   "cell_type": "code",
   "execution_count": null,
   "metadata": {},
   "outputs": [],
   "source": []
  }
 ],
 "metadata": {
  "kernelspec": {
   "display_name": "Python 3",
   "language": "python",
   "name": "python3"
  },
  "language_info": {
   "codemirror_mode": {
    "name": "ipython",
    "version": 3
   },
   "file_extension": ".py",
   "mimetype": "text/x-python",
   "name": "python",
   "nbconvert_exporter": "python",
   "pygments_lexer": "ipython3",
   "version": "3.7.0"
  }
 },
 "nbformat": 4,
 "nbformat_minor": 2
}
